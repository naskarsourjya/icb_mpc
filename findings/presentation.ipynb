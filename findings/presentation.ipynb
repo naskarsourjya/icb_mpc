{
 "cells": [
  {
   "cell_type": "code",
   "execution_count": 2,
   "id": "cad824f2",
   "metadata": {},
   "outputs": [
    {
     "name": "stdout",
     "output_type": "stream",
     "text": [
      "Epoch 1/100, Loss: 1.6744\n",
      "Epoch 2/100, Loss: 1.0421\n",
      "Epoch 3/100, Loss: 1.2489\n",
      "Epoch 4/100, Loss: 1.2504\n",
      "Epoch 5/100, Loss: 1.0762\n",
      "Epoch 6/100, Loss: 0.8412\n",
      "Epoch 7/100, Loss: 0.6894\n",
      "Epoch 8/100, Loss: 0.8070\n",
      "Epoch 9/100, Loss: 0.6789\n",
      "Epoch 10/100, Loss: 0.6924\n",
      "Epoch 11/100, Loss: 0.6903\n",
      "Epoch 12/100, Loss: 0.6478\n",
      "Epoch 13/100, Loss: 0.6785\n",
      "Epoch 14/100, Loss: 0.6424\n",
      "Epoch 15/100, Loss: 0.6420\n",
      "Epoch 16/100, Loss: 0.6382\n",
      "Epoch 17/100, Loss: 0.6199\n",
      "Epoch 18/100, Loss: 0.6341\n",
      "Epoch 19/100, Loss: 0.6181\n",
      "Epoch 20/100, Loss: 0.6263\n",
      "Epoch 21/100, Loss: 0.6108\n",
      "Epoch 22/100, Loss: 0.6023\n",
      "Epoch 23/100, Loss: 0.6022\n",
      "Epoch 24/100, Loss: 0.5951\n",
      "Epoch 25/100, Loss: 0.6081\n",
      "Epoch 26/100, Loss: 0.6121\n",
      "Epoch 27/100, Loss: 0.6183\n",
      "Epoch 28/100, Loss: 0.6330\n",
      "Epoch 29/100, Loss: 0.5982\n",
      "Epoch 30/100, Loss: 0.6097\n",
      "Epoch 31/100, Loss: 0.5972\n",
      "Epoch 32/100, Loss: 0.6034\n",
      "Epoch 33/100, Loss: 0.6118\n",
      "Epoch 34/100, Loss: 0.6092\n",
      "Epoch 35/100, Loss: 0.6261\n",
      "Epoch 36/100, Loss: 0.6152\n",
      "Epoch 37/100, Loss: 0.6327\n",
      "Epoch 38/100, Loss: 0.6103\n",
      "Epoch 39/100, Loss: 0.5960\n",
      "Epoch 40/100, Loss: 0.6050\n",
      "Epoch 41/100, Loss: 0.6164\n",
      "Epoch 42/100, Loss: 0.6075\n",
      "Epoch 43/100, Loss: 0.6105\n",
      "Epoch 44/100, Loss: 0.6412\n",
      "Epoch 45/100, Loss: 0.6115\n",
      "Epoch 46/100, Loss: 0.6198\n",
      "Epoch 47/100, Loss: 0.6016\n",
      "Epoch 48/100, Loss: 0.5979\n",
      "Epoch 49/100, Loss: 0.6053\n",
      "Epoch 50/100, Loss: 0.6044\n",
      "Epoch 51/100, Loss: 0.6005\n",
      "Epoch 52/100, Loss: 0.6038\n",
      "Epoch 53/100, Loss: 0.6126\n",
      "Epoch 54/100, Loss: 0.6014\n",
      "Epoch 55/100, Loss: 0.6397\n",
      "Epoch 56/100, Loss: 0.6137\n",
      "Epoch 57/100, Loss: 0.6657\n",
      "Epoch 58/100, Loss: 0.6134\n",
      "Epoch 59/100, Loss: 0.6297\n",
      "Epoch 60/100, Loss: 0.6181\n",
      "Epoch 61/100, Loss: 0.6305\n",
      "Epoch 62/100, Loss: 0.6011\n",
      "Epoch 63/100, Loss: 0.6128\n",
      "Epoch 64/100, Loss: 0.6094\n",
      "Epoch 65/100, Loss: 0.6076\n",
      "Epoch 66/100, Loss: 0.6067\n",
      "Epoch 67/100, Loss: 0.6134\n",
      "Epoch 68/100, Loss: 0.6133\n",
      "Epoch 69/100, Loss: 0.6015\n",
      "Epoch 70/100, Loss: 0.5975\n",
      "Epoch 71/100, Loss: 0.6015\n",
      "Epoch 72/100, Loss: 0.6087\n",
      "Epoch 73/100, Loss: 0.6026\n",
      "Epoch 74/100, Loss: 0.6397\n",
      "Epoch 75/100, Loss: 0.6124\n",
      "Epoch 76/100, Loss: 0.6467\n",
      "Epoch 77/100, Loss: 0.6470\n",
      "Epoch 78/100, Loss: 0.6413\n",
      "Epoch 79/100, Loss: 0.6354\n",
      "Epoch 80/100, Loss: 0.6434\n",
      "Epoch 81/100, Loss: 0.6351\n",
      "Epoch 82/100, Loss: 0.6448\n",
      "Epoch 83/100, Loss: 0.6346\n",
      "Epoch 84/100, Loss: 0.6780\n",
      "Epoch 85/100, Loss: 0.6102\n",
      "Epoch 86/100, Loss: 0.6612\n",
      "Epoch 87/100, Loss: 0.6108\n",
      "Epoch 88/100, Loss: 0.6701\n",
      "Epoch 89/100, Loss: 0.6692\n",
      "Epoch 90/100, Loss: 0.6807\n",
      "Epoch 91/100, Loss: 0.6491\n",
      "Epoch 92/100, Loss: 0.6344\n",
      "Epoch 93/100, Loss: 0.6406\n",
      "Epoch 94/100, Loss: 0.6303\n",
      "Epoch 95/100, Loss: 0.6064\n",
      "Epoch 96/100, Loss: 0.6277\n",
      "Epoch 97/100, Loss: 0.6147\n",
      "Epoch 98/100, Loss: 0.6147\n",
      "Epoch 99/100, Loss: 0.6051\n",
      "Epoch 100/100, Loss: 0.6262\n"
     ]
    },
    {
     "data": {
      "application/vnd.plotly.v1+json": {
       "config": {
        "plotlyServerURL": "https://plot.ly"
       },
       "data": [
        {
         "line": {
          "color": "blue"
         },
         "mode": "lines",
         "name": "Real Outputs",
         "type": "scatter",
         "x": {
          "bdata": "AAECAwQFBgcICQoLDA0ODxAREhMUFRYXGBkaGxwdHh8gISIjJCUmJygpKissLS4vMDEyMzQ1Njc4OTo7PD0+P0BBQkNERUZHSElKS0xNTk9QUVJTVFVWV1hZWltcXV5fYGFiYw==",
          "dtype": "i1"
         },
         "y": {
          "bdata": "/VmHIIhuqT/n8QP0aka2P/AiapCa/NA/lAdMPIvY3D8Fm9drg6nXP7qOoLbQd90/9tDuPCJI5z+29kCeSD7nP0qxjHfqoeU/SGqypIH76j9lFfQEDp7pP7gtiqgUMOs/tOW6IOa87j/xGekTNNLoP/VyiD2iFuo/yA3I17Em7j+UF0xP3LnsPwsXU//pVPA/+HdRv78e7D+inZgE4Y7pP9g8vIaewfA/u5ng2iSN6j87aCMGw6npP0GkD544zeI/NhVM8GFL4z/Hcb1JRtriP1vtl8SbLNg/IoRDmzUr3D8M/LpgOMPPP674svWsPMc/hEQCIywOqj+rF4HsYAbJP49rNXxrire/UB1EFjj30r+IH8cGG2nKvxYC75gXL+C/VKKJF2oN3b93pMzbWDrov18g6FtZyei/1BDeyr9G5r+tMqRHAa7mv3GezrknYOq/vHo+6Zjm7L/sYfvfYc/uv1T8eg1yy/G/j0IGpejt8L8a2HG8x7Pwv5/6g7n2mOy/QnqwKsKa7r9KQKHqil/yv23Z9o6wJu2/1y/9Mjsy7r/IzGlcT5ztvxYO6BISsOe/fqpSggNJ5L8lRTtgm03iv6xTd4lbc+W/e+m5WpAL4b/CCBkJvj7Yv7o1kxGhNsy/nQxg98cx0b+rL//cI+bBv1k6dajeysC/ZMY89GgZpL+0dvs0A8DQP36wHeTFhNo/dQ/WxBx81z/gffZGlh3iP/7Cw2dL1+I/ZLiylvU34j+t+I9Q9tTnP49cso8nwu0/piPlDFGh6j/Oi8wQjLHwP2sNFLDZV+U/sg4hbyOz8D9Uu93gAsfvPzyeK3NH8+4/e4X5NVMk8D86Qe7FB2PpP8kuQ+U0eu4/uD8+GEBw7z9LZbacb+rwP0oskUgk9Ok/yUM9dNtA5z+mfb8wKjPmP5EIaAYBdeg/FRnOwCMV5D9iXM3nzUndP6bVQu2GP94/A1NMqxmY1T+CiRQQzffUPz5nzNmwXa8/cKJyTKSpX78mZVVgtfy7v99EcQ/JRNS/bmt85x+fzr/HaeRo36nVv4sGp7MrMd2/rzfGcsso4r8=",
          "dtype": "f8"
         }
        },
        {
         "line": {
          "color": "red",
          "dash": "dash"
         },
         "mode": "lines",
         "name": "Lower Bound",
         "type": "scatter",
         "x": {
          "bdata": "AAECAwQFBgcICQoLDA0ODxAREhMUFRYXGBkaGxwdHh8gISIjJCUmJygpKissLS4vMDEyMzQ1Njc4OTo7PD0+P0BBQkNERUZHSElKS0xNTk9QUVJTVFVWV1hZWltcXV5fYGFiYw==",
          "dtype": "i1"
         },
         "y": {
          "bdata": "Vv5hv9FSYb86umC/yDNgvyu9X7+eUl+/Ye9ev0KOXr9BKl6/SL9dv7BKXb+Ey1y/mkJcvzuyW7/AHVu/DIlavw74Wb9ablm/4u5Yv9J7WL+HFli/jr9Xv912V7/ZO1e/gg1Xv5fqVr+g0Va/LMFWv7S3Vr/Ks1a/ELRWv0y3Vr9gvFa/UsJWv0bIVr+IzVa/fdFWv6jTVr+k01a/K9FWvwLMVr8GxFa/ILlWv0arVr9+mla/04ZWv1ZwVr8kV1a/XjtWvyAdVr+S/FW/2tlVvyC1Vb+IjlW/PGZVv2I8Vb8fEVW/luRUv+62VL9GiFS/uVhUv2ooVL9291O/8MVTv/aTU7+dYVO/9i5Tvxr8Ur8WyVK/+5VSv9hiUr+5L1K/rPxRv7rJUb/qllG/SmRRv+AxUb+w/1C/xM1Qvx6cUL/FalC/vjlQvwsJUL+u2E+/rqhPvwx5T7/JSU+/5BpPv2jsTr9Mvk6/mJBOv0pjTr9kNk6/5AlOv9DdTb8ksk2/4IZNvwlcTb+cMU2/mgdNvw==",
          "dtype": "f4"
         }
        },
        {
         "line": {
          "color": "green",
          "dash": "dash"
         },
         "mode": "lines",
         "name": "Upper Bound",
         "type": "scatter",
         "x": {
          "bdata": "AAECAwQFBgcICQoLDA0ODxAREhMUFRYXGBkaGxwdHh8gISIjJCUmJygpKissLS4vMDEyMzQ1Njc4OTo7PD0+P0BBQkNERUZHSElKS0xNTk9QUVJTVFVWV1hZWltcXV5fYGFiYw==",
          "dtype": "i1"
         },
         "y": {
          "bdata": "ozqDP2aQgz+x3IM/6h+EPzhbhD9/kIQ/HsKEP63yhD+uJIU/KlqFP3aUhT8M1IU/gRiGP7Bghj/uqoY/SPWGP8c9hz+hgoc/XcKHP+X7hz+KLog/B1qIP2B+iD/im4g/DbOIP4LEiD/+0Ig/ONmIP/TdiD/p34g/xt+IPyjeiD+e24g/pdiIP6vViD8K04g/ENGIP/rPiD/8z4g/ONGIP83TiD/L14g/Pt2IPyvkiD+P7Ig/ZPaIP6MBiT88Dok/HxyJPz4riT+FO4k/4UyJPz5fiT+Kcok/sIaJP52biT8+sYk/g8eJP1feiT+r9Yk/cg2KP5klij8TPoo/1laKP9Nvij8AiYo/U6KKP8G7ij9D1Yo/0O6KP2IIiz/yIYs/eDuLP/FUiz9Zbos/qYeLP96giz/2uYs/7NKLP7/riz9sBIw/7xyMP0g1jD93TYw/d2WMP0h9jD/qlIw/XKyMP5rDjD+o2ow/gvGMPykIjT+cHo0/3DSNP+ZKjT+8YI0/XnaNP8qLjT8AoY0/AbaNPw==",
          "dtype": "f4"
         }
        },
        {
         "fill": "toself",
         "fillcolor": "rgba(128, 128, 128, 0.2)",
         "line": {
          "color": "rgba(255,255,255,0)"
         },
         "name": "Prediction Interval",
         "type": "scatter",
         "x": {
          "bdata": "AAECAwQFBgcICQoLDA0ODxAREhMUFRYXGBkaGxwdHh8gISIjJCUmJygpKissLS4vMDEyMzQ1Njc4OTo7PD0+P0BBQkNERUZHSElKS0xNTk9QUVJTVFVWV1hZWltcXV5fYGFiY2NiYWBfXl1cW1pZWFdWVVRTUlFQT05NTEtKSUhHRkVEQ0JBQD8+PTw7Ojk4NzY1NDMyMTAvLi0sKyopKCcmJSQjIiEgHx4dHBsaGRgXFhUUExIREA8ODQwLCgkIBwYFBAMCAQA=",
          "dtype": "i1"
         },
         "y": {
          "bdata": "ozqDP2aQgz+x3IM/6h+EPzhbhD9/kIQ/HsKEP63yhD+uJIU/KlqFP3aUhT8M1IU/gRiGP7Bghj/uqoY/SPWGP8c9hz+hgoc/XcKHP+X7hz+KLog/B1qIP2B+iD/im4g/DbOIP4LEiD/+0Ig/ONmIP/TdiD/p34g/xt+IPyjeiD+e24g/pdiIP6vViD8K04g/ENGIP/rPiD/8z4g/ONGIP83TiD/L14g/Pt2IPyvkiD+P7Ig/ZPaIP6MBiT88Dok/HxyJPz4riT+FO4k/4UyJPz5fiT+Kcok/sIaJP52biT8+sYk/g8eJP1feiT+r9Yk/cg2KP5klij8TPoo/1laKP9Nvij8AiYo/U6KKP8G7ij9D1Yo/0O6KP2IIiz/yIYs/eDuLP/FUiz9Zbos/qYeLP96giz/2uYs/7NKLP7/riz9sBIw/7xyMP0g1jD93TYw/d2WMP0h9jD/qlIw/XKyMP5rDjD+o2ow/gvGMPykIjT+cHo0/3DSNP+ZKjT+8YI0/XnaNP8qLjT8AoY0/AbaNP5oHTb+cMU2/CVxNv+CGTb8ksk2/0N1Nv+QJTr9kNk6/SmNOv5iQTr9Mvk6/aOxOv+QaT7/JSU+/DHlPv66oT7+u2E+/CwlQv745UL/FalC/HpxQv8TNUL+w/1C/4DFRv0pkUb/qllG/uslRv6z8Ub+5L1K/2GJSv/uVUr8WyVK/GvxSv/YuU7+dYVO/9pNTv/DFU79291O/aihUv7lYVL9GiFS/7rZUv5bkVL8fEVW/YjxVvzxmVb+IjlW/ILVVv9rZVb+S/FW/IB1Wv147Vr8kV1a/VnBWv9OGVr9+mla/RqtWvyC5Vr8GxFa/AsxWvyvRVr+k01a/qNNWv33RVr+IzVa/RshWv1LCVr9gvFa/TLdWvxC0Vr/Ks1a/tLdWvyzBVr+g0Va/l+pWv4INV7/ZO1e/3XZXv46/V7+HFli/0ntYv+LuWL9ablm/DvhZvwyJWr/AHVu/O7Jbv5pCXL+Ey1y/sEpdv0i/Xb9BKl6/Qo5ev2HvXr+eUl+/K71fv8gzYL86umC/0VJhv1b+Yb8=",
          "dtype": "f4"
         }
        }
       ],
       "layout": {
        "legend": {
         "x": 0,
         "y": 1
        },
        "template": {
         "data": {
          "bar": [
           {
            "error_x": {
             "color": "#2a3f5f"
            },
            "error_y": {
             "color": "#2a3f5f"
            },
            "marker": {
             "line": {
              "color": "#E5ECF6",
              "width": 0.5
             },
             "pattern": {
              "fillmode": "overlay",
              "size": 10,
              "solidity": 0.2
             }
            },
            "type": "bar"
           }
          ],
          "barpolar": [
           {
            "marker": {
             "line": {
              "color": "#E5ECF6",
              "width": 0.5
             },
             "pattern": {
              "fillmode": "overlay",
              "size": 10,
              "solidity": 0.2
             }
            },
            "type": "barpolar"
           }
          ],
          "carpet": [
           {
            "aaxis": {
             "endlinecolor": "#2a3f5f",
             "gridcolor": "white",
             "linecolor": "white",
             "minorgridcolor": "white",
             "startlinecolor": "#2a3f5f"
            },
            "baxis": {
             "endlinecolor": "#2a3f5f",
             "gridcolor": "white",
             "linecolor": "white",
             "minorgridcolor": "white",
             "startlinecolor": "#2a3f5f"
            },
            "type": "carpet"
           }
          ],
          "choropleth": [
           {
            "colorbar": {
             "outlinewidth": 0,
             "ticks": ""
            },
            "type": "choropleth"
           }
          ],
          "contour": [
           {
            "colorbar": {
             "outlinewidth": 0,
             "ticks": ""
            },
            "colorscale": [
             [
              0,
              "#0d0887"
             ],
             [
              0.1111111111111111,
              "#46039f"
             ],
             [
              0.2222222222222222,
              "#7201a8"
             ],
             [
              0.3333333333333333,
              "#9c179e"
             ],
             [
              0.4444444444444444,
              "#bd3786"
             ],
             [
              0.5555555555555556,
              "#d8576b"
             ],
             [
              0.6666666666666666,
              "#ed7953"
             ],
             [
              0.7777777777777778,
              "#fb9f3a"
             ],
             [
              0.8888888888888888,
              "#fdca26"
             ],
             [
              1,
              "#f0f921"
             ]
            ],
            "type": "contour"
           }
          ],
          "contourcarpet": [
           {
            "colorbar": {
             "outlinewidth": 0,
             "ticks": ""
            },
            "type": "contourcarpet"
           }
          ],
          "heatmap": [
           {
            "colorbar": {
             "outlinewidth": 0,
             "ticks": ""
            },
            "colorscale": [
             [
              0,
              "#0d0887"
             ],
             [
              0.1111111111111111,
              "#46039f"
             ],
             [
              0.2222222222222222,
              "#7201a8"
             ],
             [
              0.3333333333333333,
              "#9c179e"
             ],
             [
              0.4444444444444444,
              "#bd3786"
             ],
             [
              0.5555555555555556,
              "#d8576b"
             ],
             [
              0.6666666666666666,
              "#ed7953"
             ],
             [
              0.7777777777777778,
              "#fb9f3a"
             ],
             [
              0.8888888888888888,
              "#fdca26"
             ],
             [
              1,
              "#f0f921"
             ]
            ],
            "type": "heatmap"
           }
          ],
          "histogram": [
           {
            "marker": {
             "pattern": {
              "fillmode": "overlay",
              "size": 10,
              "solidity": 0.2
             }
            },
            "type": "histogram"
           }
          ],
          "histogram2d": [
           {
            "colorbar": {
             "outlinewidth": 0,
             "ticks": ""
            },
            "colorscale": [
             [
              0,
              "#0d0887"
             ],
             [
              0.1111111111111111,
              "#46039f"
             ],
             [
              0.2222222222222222,
              "#7201a8"
             ],
             [
              0.3333333333333333,
              "#9c179e"
             ],
             [
              0.4444444444444444,
              "#bd3786"
             ],
             [
              0.5555555555555556,
              "#d8576b"
             ],
             [
              0.6666666666666666,
              "#ed7953"
             ],
             [
              0.7777777777777778,
              "#fb9f3a"
             ],
             [
              0.8888888888888888,
              "#fdca26"
             ],
             [
              1,
              "#f0f921"
             ]
            ],
            "type": "histogram2d"
           }
          ],
          "histogram2dcontour": [
           {
            "colorbar": {
             "outlinewidth": 0,
             "ticks": ""
            },
            "colorscale": [
             [
              0,
              "#0d0887"
             ],
             [
              0.1111111111111111,
              "#46039f"
             ],
             [
              0.2222222222222222,
              "#7201a8"
             ],
             [
              0.3333333333333333,
              "#9c179e"
             ],
             [
              0.4444444444444444,
              "#bd3786"
             ],
             [
              0.5555555555555556,
              "#d8576b"
             ],
             [
              0.6666666666666666,
              "#ed7953"
             ],
             [
              0.7777777777777778,
              "#fb9f3a"
             ],
             [
              0.8888888888888888,
              "#fdca26"
             ],
             [
              1,
              "#f0f921"
             ]
            ],
            "type": "histogram2dcontour"
           }
          ],
          "mesh3d": [
           {
            "colorbar": {
             "outlinewidth": 0,
             "ticks": ""
            },
            "type": "mesh3d"
           }
          ],
          "parcoords": [
           {
            "line": {
             "colorbar": {
              "outlinewidth": 0,
              "ticks": ""
             }
            },
            "type": "parcoords"
           }
          ],
          "pie": [
           {
            "automargin": true,
            "type": "pie"
           }
          ],
          "scatter": [
           {
            "fillpattern": {
             "fillmode": "overlay",
             "size": 10,
             "solidity": 0.2
            },
            "type": "scatter"
           }
          ],
          "scatter3d": [
           {
            "line": {
             "colorbar": {
              "outlinewidth": 0,
              "ticks": ""
             }
            },
            "marker": {
             "colorbar": {
              "outlinewidth": 0,
              "ticks": ""
             }
            },
            "type": "scatter3d"
           }
          ],
          "scattercarpet": [
           {
            "marker": {
             "colorbar": {
              "outlinewidth": 0,
              "ticks": ""
             }
            },
            "type": "scattercarpet"
           }
          ],
          "scattergeo": [
           {
            "marker": {
             "colorbar": {
              "outlinewidth": 0,
              "ticks": ""
             }
            },
            "type": "scattergeo"
           }
          ],
          "scattergl": [
           {
            "marker": {
             "colorbar": {
              "outlinewidth": 0,
              "ticks": ""
             }
            },
            "type": "scattergl"
           }
          ],
          "scattermap": [
           {
            "marker": {
             "colorbar": {
              "outlinewidth": 0,
              "ticks": ""
             }
            },
            "type": "scattermap"
           }
          ],
          "scattermapbox": [
           {
            "marker": {
             "colorbar": {
              "outlinewidth": 0,
              "ticks": ""
             }
            },
            "type": "scattermapbox"
           }
          ],
          "scatterpolar": [
           {
            "marker": {
             "colorbar": {
              "outlinewidth": 0,
              "ticks": ""
             }
            },
            "type": "scatterpolar"
           }
          ],
          "scatterpolargl": [
           {
            "marker": {
             "colorbar": {
              "outlinewidth": 0,
              "ticks": ""
             }
            },
            "type": "scatterpolargl"
           }
          ],
          "scatterternary": [
           {
            "marker": {
             "colorbar": {
              "outlinewidth": 0,
              "ticks": ""
             }
            },
            "type": "scatterternary"
           }
          ],
          "surface": [
           {
            "colorbar": {
             "outlinewidth": 0,
             "ticks": ""
            },
            "colorscale": [
             [
              0,
              "#0d0887"
             ],
             [
              0.1111111111111111,
              "#46039f"
             ],
             [
              0.2222222222222222,
              "#7201a8"
             ],
             [
              0.3333333333333333,
              "#9c179e"
             ],
             [
              0.4444444444444444,
              "#bd3786"
             ],
             [
              0.5555555555555556,
              "#d8576b"
             ],
             [
              0.6666666666666666,
              "#ed7953"
             ],
             [
              0.7777777777777778,
              "#fb9f3a"
             ],
             [
              0.8888888888888888,
              "#fdca26"
             ],
             [
              1,
              "#f0f921"
             ]
            ],
            "type": "surface"
           }
          ],
          "table": [
           {
            "cells": {
             "fill": {
              "color": "#EBF0F8"
             },
             "line": {
              "color": "white"
             }
            },
            "header": {
             "fill": {
              "color": "#C8D4E3"
             },
             "line": {
              "color": "white"
             }
            },
            "type": "table"
           }
          ]
         },
         "layout": {
          "annotationdefaults": {
           "arrowcolor": "#2a3f5f",
           "arrowhead": 0,
           "arrowwidth": 1
          },
          "autotypenumbers": "strict",
          "coloraxis": {
           "colorbar": {
            "outlinewidth": 0,
            "ticks": ""
           }
          },
          "colorscale": {
           "diverging": [
            [
             0,
             "#8e0152"
            ],
            [
             0.1,
             "#c51b7d"
            ],
            [
             0.2,
             "#de77ae"
            ],
            [
             0.3,
             "#f1b6da"
            ],
            [
             0.4,
             "#fde0ef"
            ],
            [
             0.5,
             "#f7f7f7"
            ],
            [
             0.6,
             "#e6f5d0"
            ],
            [
             0.7,
             "#b8e186"
            ],
            [
             0.8,
             "#7fbc41"
            ],
            [
             0.9,
             "#4d9221"
            ],
            [
             1,
             "#276419"
            ]
           ],
           "sequential": [
            [
             0,
             "#0d0887"
            ],
            [
             0.1111111111111111,
             "#46039f"
            ],
            [
             0.2222222222222222,
             "#7201a8"
            ],
            [
             0.3333333333333333,
             "#9c179e"
            ],
            [
             0.4444444444444444,
             "#bd3786"
            ],
            [
             0.5555555555555556,
             "#d8576b"
            ],
            [
             0.6666666666666666,
             "#ed7953"
            ],
            [
             0.7777777777777778,
             "#fb9f3a"
            ],
            [
             0.8888888888888888,
             "#fdca26"
            ],
            [
             1,
             "#f0f921"
            ]
           ],
           "sequentialminus": [
            [
             0,
             "#0d0887"
            ],
            [
             0.1111111111111111,
             "#46039f"
            ],
            [
             0.2222222222222222,
             "#7201a8"
            ],
            [
             0.3333333333333333,
             "#9c179e"
            ],
            [
             0.4444444444444444,
             "#bd3786"
            ],
            [
             0.5555555555555556,
             "#d8576b"
            ],
            [
             0.6666666666666666,
             "#ed7953"
            ],
            [
             0.7777777777777778,
             "#fb9f3a"
            ],
            [
             0.8888888888888888,
             "#fdca26"
            ],
            [
             1,
             "#f0f921"
            ]
           ]
          },
          "colorway": [
           "#636efa",
           "#EF553B",
           "#00cc96",
           "#ab63fa",
           "#FFA15A",
           "#19d3f3",
           "#FF6692",
           "#B6E880",
           "#FF97FF",
           "#FECB52"
          ],
          "font": {
           "color": "#2a3f5f"
          },
          "geo": {
           "bgcolor": "white",
           "lakecolor": "white",
           "landcolor": "#E5ECF6",
           "showlakes": true,
           "showland": true,
           "subunitcolor": "white"
          },
          "hoverlabel": {
           "align": "left"
          },
          "hovermode": "closest",
          "mapbox": {
           "style": "light"
          },
          "paper_bgcolor": "white",
          "plot_bgcolor": "#E5ECF6",
          "polar": {
           "angularaxis": {
            "gridcolor": "white",
            "linecolor": "white",
            "ticks": ""
           },
           "bgcolor": "#E5ECF6",
           "radialaxis": {
            "gridcolor": "white",
            "linecolor": "white",
            "ticks": ""
           }
          },
          "scene": {
           "xaxis": {
            "backgroundcolor": "#E5ECF6",
            "gridcolor": "white",
            "gridwidth": 2,
            "linecolor": "white",
            "showbackground": true,
            "ticks": "",
            "zerolinecolor": "white"
           },
           "yaxis": {
            "backgroundcolor": "#E5ECF6",
            "gridcolor": "white",
            "gridwidth": 2,
            "linecolor": "white",
            "showbackground": true,
            "ticks": "",
            "zerolinecolor": "white"
           },
           "zaxis": {
            "backgroundcolor": "#E5ECF6",
            "gridcolor": "white",
            "gridwidth": 2,
            "linecolor": "white",
            "showbackground": true,
            "ticks": "",
            "zerolinecolor": "white"
           }
          },
          "shapedefaults": {
           "line": {
            "color": "#2a3f5f"
           }
          },
          "ternary": {
           "aaxis": {
            "gridcolor": "white",
            "linecolor": "white",
            "ticks": ""
           },
           "baxis": {
            "gridcolor": "white",
            "linecolor": "white",
            "ticks": ""
           },
           "bgcolor": "#E5ECF6",
           "caxis": {
            "gridcolor": "white",
            "linecolor": "white",
            "ticks": ""
           }
          },
          "title": {
           "x": 0.05
          },
          "xaxis": {
           "automargin": true,
           "gridcolor": "white",
           "linecolor": "white",
           "ticks": "",
           "title": {
            "standoff": 15
           },
           "zerolinecolor": "white",
           "zerolinewidth": 2
          },
          "yaxis": {
           "automargin": true,
           "gridcolor": "white",
           "linecolor": "white",
           "ticks": "",
           "title": {
            "standoff": 15
           },
           "zerolinecolor": "white",
           "zerolinewidth": 2
          }
         }
        },
        "title": {
         "text": "Conformalized Quantile Regression Results"
        },
        "xaxis": {
         "title": {
          "text": "Sample Index"
         }
        },
        "yaxis": {
         "title": {
          "text": "Value"
         }
        }
       }
      }
     },
     "metadata": {},
     "output_type": "display_data"
    }
   ],
   "source": [
    "import numpy as np\n",
    "import plotly.graph_objects as go\n",
    "import torch\n",
    "import torch.nn as nn\n",
    "import torch.optim as optim\n",
    "from torch.utils.data import DataLoader, TensorDataset\n",
    "\n",
    "def pinball_loss(predictions, targets, quantile):\n",
    "    diff = targets - predictions\n",
    "    loss = torch.maximum(quantile * diff, (quantile - 1) * diff)\n",
    "    return loss.mean()\n",
    "\n",
    "def compute_quantile(values, quantile):\n",
    "    return np.quantile(values, quantile)\n",
    "\n",
    "def train_and_calibrate(dataset, model, optimizer, quantiles, epochs, split_ratio=0.8):\n",
    "    data_size = len(dataset)\n",
    "    split_idx = int(split_ratio * data_size)\n",
    "    train_set, calib_set = torch.utils.data.random_split(dataset, [split_idx, data_size - split_idx])\n",
    "    train_loader = DataLoader(train_set, batch_size=32, shuffle=True)\n",
    "    calib_loader = DataLoader(calib_set, batch_size=32, shuffle=False)\n",
    "\n",
    "    for epoch in range(epochs):\n",
    "        model.train()\n",
    "        total_loss = 0\n",
    "        for inputs, targets in train_loader:\n",
    "            optimizer.zero_grad()\n",
    "            outputs = model(inputs)\n",
    "            loss = sum(pinball_loss(outputs[:, i], targets, q) for i, q in enumerate(quantiles))\n",
    "            loss.backward()\n",
    "            optimizer.step()\n",
    "            total_loss += loss.item()\n",
    "        print(f\"Epoch {epoch + 1}/{epochs}, Loss: {total_loss:.4f}\")\n",
    "\n",
    "    model.eval()\n",
    "    residuals = []\n",
    "    with torch.no_grad():\n",
    "        for inputs, targets in calib_loader:\n",
    "            predictions = model(inputs).mean(dim=1)\n",
    "            residuals.extend(torch.abs(targets - predictions).numpy())\n",
    "    \n",
    "    residuals = np.array(residuals)\n",
    "    alpha = 0.1\n",
    "    quantile_threshold = compute_quantile(residuals, 1 - alpha)\n",
    "    \n",
    "    return model, quantile_threshold\n",
    "\n",
    "def plot_results(real_outputs, predictions, quantile_threshold):\n",
    "    lower_bound = predictions - quantile_threshold\n",
    "    upper_bound = predictions + quantile_threshold\n",
    "    x = np.arange(len(real_outputs))\n",
    "    \n",
    "    fig = go.Figure()\n",
    "    fig.add_trace(go.Scatter(x=x, y=real_outputs, mode='lines', name='Real Outputs', line=dict(color='blue')))\n",
    "    fig.add_trace(go.Scatter(x=x, y=lower_bound, mode='lines', name='Lower Bound', line=dict(color='red', dash='dash')))\n",
    "    fig.add_trace(go.Scatter(x=x, y=upper_bound, mode='lines', name='Upper Bound', line=dict(color='green', dash='dash')))\n",
    "    fig.add_trace(go.Scatter(x=np.concatenate([x, x[::-1]]),\n",
    "                             y=np.concatenate([upper_bound, lower_bound[::-1]]),\n",
    "                             fill='toself', fillcolor='rgba(128, 128, 128, 0.2)',\n",
    "                             line=dict(color='rgba(255,255,255,0)'),\n",
    "                             name='Prediction Interval'))\n",
    "    fig.update_layout(title='Conformalized Quantile Regression Results',\n",
    "                      xaxis_title='Sample Index',\n",
    "                      yaxis_title='Value',\n",
    "                      legend=dict(x=0, y=1))\n",
    "    fig.show()\n",
    "\n",
    "if __name__ == \"__main__\":\n",
    "    np.random.seed(42)\n",
    "    torch.manual_seed(42)\n",
    "    num_samples = 100\n",
    "    inputs = np.linspace(0, 10, num_samples).reshape(-1, 1)\n",
    "    outputs = np.sin(inputs) + 0.1 * np.random.normal(size=inputs.shape)\n",
    "    inputs_tensor = torch.tensor(inputs, dtype=torch.float32)\n",
    "    outputs_tensor = torch.tensor(outputs, dtype=torch.float32)\n",
    "    dataset = TensorDataset(inputs_tensor, outputs_tensor)\n",
    "    \n",
    "    class QuantileModel(nn.Module):\n",
    "        def __init__(self, input_dim, quantiles):\n",
    "            super(QuantileModel, self).__init__()\n",
    "            self.network = nn.Sequential(\n",
    "                nn.Linear(input_dim, 64),\n",
    "                nn.Tanh(),\n",
    "                nn.Linear(64, len(quantiles))\n",
    "            )\n",
    "        def forward(self, x):\n",
    "            return self.network(x)\n",
    "\n",
    "    quantiles = [0.1, 0.9]\n",
    "    model = QuantileModel(input_dim=1, quantiles=quantiles)\n",
    "    optimizer = optim.Adam(model.parameters(), lr=0.01)\n",
    "    epochs = 100\n",
    "    model, quantile_threshold = train_and_calibrate(dataset, model, optimizer, quantiles, epochs)\n",
    "    model.eval()\n",
    "    with torch.no_grad():\n",
    "        predictions = model(inputs_tensor).mean(dim=1).numpy()\n",
    "    plot_results(outputs.flatten(), predictions, quantile_threshold)\n"
   ]
  }
 ],
 "metadata": {
  "kernelspec": {
   "display_name": "cqr",
   "language": "python",
   "name": "python3"
  },
  "language_info": {
   "codemirror_mode": {
    "name": "ipython",
    "version": 3
   },
   "file_extension": ".py",
   "mimetype": "text/x-python",
   "name": "python",
   "nbconvert_exporter": "python",
   "pygments_lexer": "ipython3",
   "version": "3.11.11"
  }
 },
 "nbformat": 4,
 "nbformat_minor": 5
}
