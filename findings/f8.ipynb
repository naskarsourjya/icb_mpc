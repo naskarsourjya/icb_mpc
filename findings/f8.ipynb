{
 "cells": [
  {
   "cell_type": "markdown",
   "metadata": {},
   "source": [
    "# Findings 5\n",
    "Dated: 30.06.2025"
   ]
  },
  {
   "cell_type": "markdown",
   "metadata": {},
   "source": [
    "# imports"
   ]
  },
  {
   "cell_type": "code",
   "execution_count": null,
   "metadata": {},
   "outputs": [],
   "source": [
    "import sys\n",
    "import os\n",
    "import numpy as np\n",
    "\n",
    "# Get the notebook's current directory\n",
    "notebook_dir = os.getcwd()\n",
    "\n",
    "# Move one level up to get the parent directory\n",
    "parent_dir = os.path.dirname(notebook_dir)\n",
    "\n",
    "# Add the parent directory to sys.path\n",
    "sys.path.append(parent_dir)\n",
    "\n",
    "from module import *"
   ]
  },
  {
   "cell_type": "markdown",
   "metadata": {},
   "source": [
    "# computation device\n",
    "This variable sets the device to be used for the Neural Network trainings:"
   ]
  },
  {
   "cell_type": "code",
   "execution_count": null,
   "metadata": {},
   "outputs": [],
   "source": [
    "computation_device = 'auto'"
   ]
  },
  {
   "cell_type": "markdown",
   "metadata": {},
   "source": [
    "# system init\n",
    "This is a generic spring damper setup. Very simple and linear, with two states and one input. The state euation is the force balance of a spring damper."
   ]
  },
  {
   "cell_type": "code",
   "execution_count": null,
   "metadata": {},
   "outputs": [],
   "source": [
    "cstr_system = CSTR_dompc(set_seed=0)"
   ]
  },
  {
   "cell_type": "markdown",
   "metadata": {},
   "source": [
    "Modifying constraints"
   ]
  },
  {
   "cell_type": "code",
   "execution_count": null,
   "metadata": {},
   "outputs": [],
   "source": [
    "#spring_system.lbu = np.array([-10])       # [lower_bound_f_ext]\n",
    "#spring_system.ubu = np.array([10])        # [upper_bound_f_ext]"
   ]
  },
  {
   "cell_type": "markdown",
   "metadata": {},
   "source": [
    "# surrogate generator init\n",
    "This class is designed to be totally generic, i.e., it can take any do-mpc model, or at least that is the idea."
   ]
  },
  {
   "cell_type": "code",
   "execution_count": null,
   "metadata": {},
   "outputs": [],
   "source": [
    "dm = DataManager(set_seed=0)"
   ]
  },
  {
   "cell_type": "markdown",
   "metadata": {},
   "source": [
    "# random data\n",
    "\n",
    "Here we generate sampled with one random initial point and random inputs. Then the data and the data is split randomly to feed different parts of the algorithm.\n",
    "There is another alternate algorithm which generates data by chasing random setpoints with the help of an MPC controller."
   ]
  },
  {
   "cell_type": "code",
   "execution_count": null,
   "metadata": {},
   "outputs": [],
   "source": [
    "dm.random_input_sampler(system = cstr_system, n_samples=1000)\n",
    "dm.data_splitter(order=1, narx_train= 0.3, cqr_train= 0.3, cqr_calibration= 0.3, test = 0.1)\n",
    "#dm.data_splitter(order=2)"
   ]
  },
  {
   "cell_type": "markdown",
   "metadata": {},
   "source": [
    "## data visualisation"
   ]
  },
  {
   "cell_type": "code",
   "execution_count": null,
   "metadata": {},
   "outputs": [],
   "source": [
    "dm.visualize_data()"
   ]
  },
  {
   "cell_type": "markdown",
   "metadata": {},
   "source": [
    "# NARX model"
   ]
  },
  {
   "cell_type": "code",
   "execution_count": null,
   "metadata": {},
   "outputs": [],
   "source": [
    "dm.train_narx(hidden_layers=[5], batch_size=1000,\n",
    "          learning_rate=0.1, epochs= 1000, scheduler_flag=True, device=computation_device, train_threshold=1e-4)\n",
    "dm.narx.plot_narx_training_history()"
   ]
  },
  {
   "cell_type": "markdown",
   "metadata": {},
   "source": [
    "# conformal quantile regression\n",
    "Here qunatile regression is done to bound the errors with confidence values"
   ]
  },
  {
   "cell_type": "code",
   "execution_count": null,
   "metadata": {},
   "outputs": [],
   "source": [
    "dm.train_cqr(alpha=0.05, hidden_layers=[10, 10],  epochs= 1000, batch_size=1000, \n",
    "             device=computation_device, train_threshold=1e-20)\n",
    "dm.cqr.plot_qr_training_history()"
   ]
  },
  {
   "cell_type": "markdown",
   "metadata": {},
   "source": [
    "This section visualises the quantile regression on the calibration data which the regressors has yet not seen."
   ]
  },
  {
   "cell_type": "code",
   "execution_count": null,
   "metadata": {},
   "outputs": [],
   "source": [
    "dm.cqr_plot_qr_error()"
   ]
  },
  {
   "cell_type": "markdown",
   "metadata": {},
   "source": [
    "This plot is made against test data which till now is untouched."
   ]
  },
  {
   "cell_type": "code",
   "execution_count": null,
   "metadata": {},
   "outputs": [],
   "source": [
    "dm.plot_cqr_error_plotly()"
   ]
  },
  {
   "cell_type": "markdown",
   "metadata": {},
   "source": [
    "# verifying simulator performance"
   ]
  },
  {
   "cell_type": "code",
   "execution_count": null,
   "metadata": {},
   "outputs": [],
   "source": [
    "# checking simulator performance\n",
    "C_a0 = 0.8 # This is the initial concentration inside the tank [mol/l]\n",
    "C_b0 = 0.5 # This is the controlled variable [mol/l]\n",
    "T_R0 = 134.14 #[C]\n",
    "T_K0 = 130.0 #[C]\n",
    "\n",
    "#C_a0 = 0\n",
    "#C_b0 = 0\n",
    "#T_R0 = 387.05\n",
    "#T_J0 = 387.05\n",
    "\n",
    "x_init = np.array([[C_a0, C_b0, T_R0, T_K0]])\n",
    "dm.check_simulator(system=cstr_system, iter= 50, x_init=x_init)"
   ]
  },
  {
   "cell_type": "markdown",
   "metadata": {},
   "source": [
    "## reference check\n",
    "This function plots the performance of an MPC with a surrogate model."
   ]
  },
  {
   "cell_type": "code",
   "execution_count": null,
   "metadata": {},
   "outputs": [],
   "source": [
    "iter = 50\n",
    "setpoint = None\n",
    "n_horizon = 20\n",
    "r = 0.01"
   ]
  },
  {
   "cell_type": "code",
   "execution_count": null,
   "metadata": {},
   "outputs": [],
   "source": [
    "# check closed loop performance for an MPC with a surrogate model, simulated on the real system\n",
    "dm.check_simulator_mpc(system=cstr_system, iter=iter, setpoint=setpoint, n_horizon=n_horizon, r=r, x_init=x_init)"
   ]
  },
  {
   "cell_type": "markdown",
   "metadata": {},
   "source": [
    "# case study 1\n",
    "This is the main investigative case study of my Thesis. In ths case study the surrogate (NARX) model is used in the MPC. An outer loop consists of the CQR model, which is used to propagate the uncertainty. If due to the uncertatinty, the system boundaries are violated, in that case boundaries are constricted."
   ]
  },
  {
   "cell_type": "code",
   "execution_count": null,
   "metadata": {},
   "outputs": [],
   "source": [
    "# run the icb_mpc\n",
    "R = 10*np.array([[1/(95*95), 0],\n",
    "              [0, 1/(8500*8500)]])\n",
    "Q = 1*np.array([[1/(1.9*1.9), 0, 0, 0],\n",
    "              [0, 1/(1.9*1.9), 0, 0],\n",
    "              [0, 0, 1/(90*90), 0],\n",
    "              [0, 0, 0, 1/(90*90)]])\n",
    "tightner = 1\n",
    "confidence_cutoff = 0.8\n",
    "rnd_samples = 7\n",
    "max_search = 10"
   ]
  },
  {
   "cell_type": "code",
   "execution_count": null,
   "metadata": {},
   "outputs": [],
   "source": [
    "dm.case_study_1(system=cstr_system, iter=iter, setpoint=setpoint,\n",
    "                  n_horizon=n_horizon, r=r,\n",
    "                  tightner=tightner, confidence_cutoff=confidence_cutoff, \n",
    "                  rnd_samples=rnd_samples, max_search=max_search, R=R, Q=Q,\n",
    "                  x_init = x_init, store_gif=True)"
   ]
  },
  {
   "cell_type": "code",
   "execution_count": null,
   "metadata": {},
   "outputs": [],
   "source": [
    "dm.plot_simulation(system=cstr_system)"
   ]
  },
  {
   "cell_type": "code",
   "execution_count": null,
   "metadata": {},
   "outputs": [],
   "source": [
    "dm.show_gif_matplotlib(system = cstr_system, gif_name=\"matplotlib_animation_cs1.gif\")"
   ]
  },
  {
   "cell_type": "markdown",
   "metadata": {},
   "source": [
    "# case study 2\n",
    "In this case study, all the data used for the cqr is used to create another surrogate model, which should perform better thant the previous surrogate model as it has seen lower amount of data. With this argument I want to prove that I cases where the models are data starved, it is better to split the data and use my algo (case study 1), as it will at least prevent boundary violation, which is still a possibly in case of a marginally better model."
   ]
  },
  {
   "cell_type": "code",
   "execution_count": null,
   "metadata": {},
   "outputs": [],
   "source": [
    "dm.setup_case_study_2(hidden_layers=[10, 10], system=cstr_system, setpoint=setpoint, \n",
    "                      n_horizon=n_horizon, r=r, epochs=1000, batch_size=1000)"
   ]
  },
  {
   "cell_type": "code",
   "execution_count": null,
   "metadata": {},
   "outputs": [],
   "source": [
    "dm.case_study_2(system=cstr_system, iter = iter, x_init=x_init)"
   ]
  },
  {
   "cell_type": "code",
   "execution_count": null,
   "metadata": {},
   "outputs": [],
   "source": [
    "dm.plot_simulation(system=cstr_system)"
   ]
  },
  {
   "cell_type": "markdown",
   "metadata": {},
   "source": []
  },
  {
   "cell_type": "markdown",
   "metadata": {},
   "source": [
    "# case study 3\n",
    "surrogate model with Multi-stage robust mpc.\n"
   ]
  },
  {
   "cell_type": "code",
   "execution_count": null,
   "metadata": {},
   "outputs": [],
   "source": [
    "r_horizon = 5\n",
    "dm.setup_case_study_3(system=cstr_system, n_horizon=n_horizon, r_horizon=r_horizon, r=r, setpoint=setpoint)\n",
    "dm.case_study_3(system=cstr_system, iter=iter, x_init=x_init)"
   ]
  },
  {
   "cell_type": "code",
   "execution_count": null,
   "metadata": {},
   "outputs": [],
   "source": [
    "dm.plot_simulation(system=cstr_system)"
   ]
  },
  {
   "cell_type": "markdown",
   "metadata": {},
   "source": [
    "# case study 4\n",
    "real model with real mpc. This is the benchmark."
   ]
  },
  {
   "cell_type": "code",
   "execution_count": null,
   "metadata": {},
   "outputs": [],
   "source": [
    "dm.setup_case_study_4(system=cstr_system, n_horizon=n_horizon, r=r, setpoint=setpoint)\n",
    "dm.case_study_4(system=cstr_system, iter=iter, x_init=x_init)"
   ]
  },
  {
   "cell_type": "code",
   "execution_count": null,
   "metadata": {},
   "outputs": [],
   "source": [
    "dm.plot_simulation(system=cstr_system)"
   ]
  },
  {
   "cell_type": "markdown",
   "metadata": {},
   "source": [
    "# case study 5 (EXTRA)\n",
    "This is the midterm algo."
   ]
  },
  {
   "cell_type": "code",
   "execution_count": null,
   "metadata": {},
   "outputs": [],
   "source": [
    "dm.case_study_5(system=cstr_system, iter=iter, setpoint=setpoint,\n",
    "                  n_horizon=n_horizon, r=r,\n",
    "                  tightner=tightner, confidence_cutoff=confidence_cutoff, rnd_samples=rnd_samples, max_search=max_search,\n",
    "                  x_init = x_init, store_gif=True)"
   ]
  },
  {
   "cell_type": "code",
   "execution_count": null,
   "metadata": {},
   "outputs": [],
   "source": [
    "dm.plot_simulation(system=cstr_system)"
   ]
  },
  {
   "cell_type": "code",
   "execution_count": null,
   "metadata": {},
   "outputs": [],
   "source": [
    "dm.show_gif_matplotlib(system=cstr_system, gif_name=\"matplotlib_animation_cs5.gif\")"
   ]
  }
 ],
 "metadata": {
  "kernelspec": {
   "display_name": "cqr",
   "language": "python",
   "name": "python3"
  },
  "language_info": {
   "codemirror_mode": {
    "name": "ipython",
    "version": 3
   },
   "file_extension": ".py",
   "mimetype": "text/x-python",
   "name": "python",
   "nbconvert_exporter": "python",
   "pygments_lexer": "ipython3",
   "version": "3.11.11"
  }
 },
 "nbformat": 4,
 "nbformat_minor": 2
}
