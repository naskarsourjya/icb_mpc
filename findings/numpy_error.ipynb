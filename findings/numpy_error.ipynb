{
 "cells": [
  {
   "cell_type": "code",
   "execution_count": 1,
   "id": "7b0ff864",
   "metadata": {},
   "outputs": [],
   "source": [
    "import numpy as np"
   ]
  },
  {
   "cell_type": "code",
   "execution_count": 5,
   "id": "014852b6",
   "metadata": {},
   "outputs": [],
   "source": [
    "def linspace(t0, t_step, samples):\n",
    "    arr = np.arange(t0, t0 + (t_step * samples), t_step)\n",
    "    print(f\"Array: {arr}/n\")\n",
    "    print(f\"Shape: {arr.shape}\")\n",
    "    return None\n"
   ]
  },
  {
   "cell_type": "code",
   "execution_count": 7,
   "id": "12cc7c07",
   "metadata": {},
   "outputs": [
    {
     "name": "stdout",
     "output_type": "stream",
     "text": [
      "Array: [1.1 1.2 1.3 1.4 1.5 1.6 1.7 1.8 1.9 2. ]/n\n",
      "Shape: (10,)\n"
     ]
    }
   ],
   "source": [
    "linspace(1.1, 0.1, 10)"
   ]
  },
  {
   "cell_type": "code",
   "execution_count": 8,
   "id": "9f3cbc3b",
   "metadata": {},
   "outputs": [
    {
     "name": "stdout",
     "output_type": "stream",
     "text": [
      "Array: [1.  1.1 1.2 1.3 1.4 1.5 1.6 1.7 1.8 1.9]/n\n",
      "Shape: (10,)\n"
     ]
    }
   ],
   "source": [
    "linspace(1, 0.1, 10)"
   ]
  },
  {
   "cell_type": "markdown",
   "id": "db71f7d5",
   "metadata": {},
   "source": [
    "Why for the following I get shape as 11, this is real painful. Am I doing this wrong?\n",
    "I am using python '3.11.11' with (virtual env with anaconda navigator). Numpy version is '1.26.4'."
   ]
  },
  {
   "cell_type": "code",
   "execution_count": 6,
   "id": "cddbc3f3",
   "metadata": {},
   "outputs": [
    {
     "name": "stdout",
     "output_type": "stream",
     "text": [
      "Array: [1.2 1.3 1.4 1.5 1.6 1.7 1.8 1.9 2.  2.1 2.2]/n\n",
      "Shape: (11,)\n"
     ]
    }
   ],
   "source": [
    "linspace(1.2, 0.1, 10)"
   ]
  }
 ],
 "metadata": {
  "kernelspec": {
   "display_name": "cqr",
   "language": "python",
   "name": "python3"
  },
  "language_info": {
   "codemirror_mode": {
    "name": "ipython",
    "version": 3
   },
   "file_extension": ".py",
   "mimetype": "text/x-python",
   "name": "python",
   "nbconvert_exporter": "python",
   "pygments_lexer": "ipython3",
   "version": "3.11.11"
  }
 },
 "nbformat": 4,
 "nbformat_minor": 5
}
