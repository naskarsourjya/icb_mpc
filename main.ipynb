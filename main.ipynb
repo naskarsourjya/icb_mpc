{
 "cells": [
  {
   "cell_type": "markdown",
   "metadata": {},
   "source": [
    "# Christmas holiday\n",
    "when i put the following boundaries in spring system\n",
    "        self.t_step = 0.1\n",
    "        self.n_horizon = 10\n",
    "        self.r = 0.25   # penalty for input\n",
    "                        # range betn [0 -1]\n",
    "                        # increasing this reduces oscillatroy behaviou of input\n",
    "        # box constraints\n",
    "        self.lbx = np.array([-1, -1])   # [lower_bound_position, lower_bound_velocity]\n",
    "        self.ubx = np.array([1, 10])     # [upper_bound_position, upper_bound_velocity]\n",
    "        self.lbu = np.array([-1])       # [lower_bound_f_ext]\n",
    "        self.ubu = np.array([1])        # [upper_bound_f_ext]\n",
    "\n",
    "the suystem goes out of the box constraints. Thus i put up a RuntimeError in the main loop to stop execution if data generation goes cukoo!"
   ]
  },
  {
   "cell_type": "markdown",
   "metadata": {},
   "source": []
  },
  {
   "cell_type": "markdown",
   "metadata": {},
   "source": [
    "# Week1 (13/01/2025)\n",
    "\n",
    "Why random trajectory mpc? This is makin git incresingly complex, especiallly the presence of an mpc making it substantially slower.\n",
    "\n",
    "I chose this in the first place to sensure the samples stay within the box constraints. In case the initial condition is very close to the boundary of the system, then there might exist inputs which push it outside the box constraints.\n",
    "\n",
    "But in our case since we intend to tighten up constraints which might be violated anyway some information beyond the box constrints might be useful. So I hav enow decide to go for one random initial state and simulate system based on random feasible inputs. Also pray to god that the system stays inside the constriants.\n",
    "\n",
    "How to use narx model in do mpc framework use all history of inputs and all states along with history as states.\n",
    "\n",
    "Add a validation for the do_mpc vs the pytorch narx model.\n",
    "\n",
    "The errors are not zero, but very close. It needs to be quantified."
   ]
  },
  {
   "cell_type": "markdown",
   "metadata": {},
   "source": [
    "# open points\n",
    "1. The errors between the do_mpc surrogate model and the pytorch narx model are not zero, but very close. It needs to be quantified.\n",
    "2. Make an algorithm for random input training.\n"
   ]
  },
  {
   "cell_type": "markdown",
   "metadata": {},
   "source": []
  }
 ],
 "metadata": {
  "kernelspec": {
   "display_name": "cqr",
   "language": "python",
   "name": "python3"
  },
  "language_info": {
   "codemirror_mode": {
    "name": "ipython",
    "version": 3
   },
   "file_extension": ".py",
   "mimetype": "text/x-python",
   "name": "python",
   "nbconvert_exporter": "python",
   "pygments_lexer": "ipython3",
   "version": "3.11.10"
  }
 },
 "nbformat": 4,
 "nbformat_minor": 2
}
