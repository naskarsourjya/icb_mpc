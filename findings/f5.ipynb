{
 "cells": [
  {
   "cell_type": "markdown",
   "metadata": {},
   "source": []
  },
  {
   "cell_type": "markdown",
   "metadata": {},
   "source": [
    "# Findings 1 \n",
    "## Week 7 (03.03.2025)"
   ]
  },
  {
   "cell_type": "markdown",
   "metadata": {},
   "source": [
    "# imports"
   ]
  },
  {
   "cell_type": "code",
   "metadata": {},
   "source": [
    "import sys\n",
    "import os\n",
    "import numpy as np\n",
    "\n",
    "# Get the notebook's current directory\n",
    "notebook_dir = os.getcwd()\n",
    "\n",
    "# Move one level up to get the parent directory\n",
    "parent_dir = os.path.dirname(notebook_dir)\n",
    "\n",
    "# Add the parent directory to sys.path\n",
    "sys.path.append(parent_dir)\n",
    "\n",
    "from module import *"
   ],
   "outputs": [],
   "execution_count": null
  },
  {
   "cell_type": "markdown",
   "metadata": {},
   "source": [
    "# system init\n",
    "This is a generic spring damper setup. Very simple and linear, with two states and one input. The state euation is the force balance of a spring damper."
   ]
  },
  {
   "cell_type": "code",
   "metadata": {},
   "source": [
    "cstr_system = CSTR_dompc(set_seed=0)"
   ],
   "outputs": [],
   "execution_count": null
  },
  {
   "cell_type": "markdown",
   "metadata": {},
   "source": [
    "Modifying constraints"
   ]
  },
  {
   "cell_type": "code",
   "metadata": {},
   "source": [
    "#spring_system.lbu = np.array([-10])       # [lower_bound_f_ext]\n",
    "#spring_system.ubu = np.array([10])        # [upper_bound_f_ext]"
   ],
   "outputs": [],
   "execution_count": null
  },
  {
   "cell_type": "markdown",
   "metadata": {},
   "source": [
    "# surrogate generator init\n",
    "This class is designed to be totally generic, i.e., it can take any do-mpc model, or at least that is the idea."
   ]
  },
  {
   "cell_type": "code",
   "metadata": {},
   "source": [
    "dm = DataManager(set_seed=0)"
   ],
   "outputs": [],
   "execution_count": null
  },
  {
   "cell_type": "markdown",
   "metadata": {},
   "source": [
    "# random data\n",
    "\n",
    "Here we generate sampled with one random initial point and random inputs. Then the data and the data is split randomly to feed different parts of the algorithm.\n",
    "There is another alternate algorithm which generates data by chasing random setpoints with the help of an MPC controller."
   ]
  },
  {
   "cell_type": "code",
   "metadata": {},
   "source": [
    "dm.random_input_sampler(system = cstr_system, n_samples=100000)\n",
    "dm.data_splitter(order=1, narx_train= 0.4, cqr_train= 0.3, cqr_calibration= 0.2, test = 0.1)\n",
    "#dm.data_splitter(order=2)"
   ],
   "outputs": [],
   "execution_count": null
  },
  {
   "cell_type": "markdown",
   "metadata": {},
   "source": [
    "## data visualisation"
   ]
  },
  {
   "cell_type": "code",
   "metadata": {},
   "source": [
    "dm.visualize_data()"
   ],
   "outputs": [],
   "execution_count": null
  },
  {
   "cell_type": "markdown",
   "metadata": {},
   "source": [
    "# NARX model"
   ]
  },
  {
   "cell_type": "code",
   "metadata": {},
   "source": [
    "dm.train_narx(hidden_layers=[50], batch_size=320,\n",
    "          learning_rate=0.1, epochs= 1000, scheduler_flag=True)\n",
    "dm.narx.plot_narx_training_history()"
   ],
   "outputs": [],
   "execution_count": null
  },
  {
   "cell_type": "markdown",
   "metadata": {},
   "source": [
    "# quantile regression\n",
    "Here qunatile regression is done to bound the errors with confidence values"
   ]
  },
  {
   "cell_type": "code",
   "metadata": {},
   "source": [
    "dm.train_cqr(alpha=0.05, hidden_layers=[50],  epochs= 1000, batch_size=320)\n",
    "dm.cqr.plot_qr_training_history()"
   ],
   "outputs": [],
   "execution_count": null
  },
  {
   "cell_type": "markdown",
   "metadata": {},
   "source": [
    "This section visualises the quantile regression on the calibration data which the regressors has yet not seen."
   ]
  },
  {
   "cell_type": "code",
   "metadata": {},
   "source": [
    "dm.cqr_plot_qr_error()"
   ],
   "outputs": [],
   "execution_count": null
  },
  {
   "cell_type": "markdown",
   "metadata": {},
   "source": [
    "This plot is made against test data which till now is untouched."
   ]
  },
  {
   "cell_type": "code",
   "metadata": {},
   "source": [
    "dm.plot_cqr_error_plotly()"
   ],
   "outputs": [],
   "execution_count": null
  },
  {
   "cell_type": "markdown",
   "metadata": {},
   "source": [
    "# verifying simulator performance"
   ]
  },
  {
   "cell_type": "code",
   "metadata": {},
   "source": [
    "# checking simulator performance\n",
    "C_a0 = 0\n",
    "C_b0 = 0\n",
    "T_R0 = 387.05\n",
    "T_J0 = 387.05\n",
    "x_init = np.array([[C_a0, C_b0, T_R0, T_J0]])\n",
    "dm.check_simulator(system=cstr_system, iter= 50, x_init=x_init)"
   ],
   "outputs": [],
   "execution_count": null
  },
  {
   "cell_type": "code",
   "metadata": {},
   "source": [
    "# check closed loop performance for an MPC with a surrogate model, simulated on the real system\n",
    "dm.check_simulator_mpc(system=cstr_system, iter=50, setpoint=1.99, n_horizon= 10, r= 0.01, x_init=x_init)"
   ],
   "outputs": [],
   "execution_count": null
  },
  {
   "cell_type": "markdown",
   "metadata": {},
   "source": [
    "# simulation"
   ]
  },
  {
   "cell_type": "code",
   "metadata": {},
   "source": [
    "# run the icb_mpc\n",
    "R = np.array([[1, 0],\n",
    "              [0, 1]])\n",
    "Q = np.array([[1, 0, 0, 0],\n",
    "              [0, 1, 0, 0],\n",
    "              [0, 0, 1, 0],\n",
    "              [0, 0, 0, 1]])\n",
    "dm.check_icbmpc(system=cstr_system, iter=50, setpoint=0.0099,\n",
    "                  n_horizon=10, r=0.01,\n",
    "                  tightner=0.1, confidence_cutoff=0.8, rnd_samples=7, max_search=5, R=R, Q=Q,\n",
    "                  x_init = x_init, store_gif=True)"
   ],
   "outputs": [],
   "execution_count": null
  },
  {
   "cell_type": "code",
   "metadata": {},
   "source": [
    "dm.plot_simulation()"
   ],
   "outputs": [],
   "execution_count": null
  },
  {
   "cell_type": "code",
   "metadata": {},
   "source": [
    "dm.show_gif_matplotlib()"
   ],
   "outputs": [],
   "execution_count": null
  }
 ],
 "metadata": {
  "kernelspec": {
   "display_name": "cqr",
   "language": "python",
   "name": "python3"
  },
  "language_info": {
   "codemirror_mode": {
    "name": "ipython",
    "version": 3
   },
   "file_extension": ".py",
   "mimetype": "text/x-python",
   "name": "python",
   "nbconvert_exporter": "python",
   "pygments_lexer": "ipython3",
   "version": "3.11.11"
  }
 },
 "nbformat": 4,
 "nbformat_minor": 2
}
