{
 "cells": [
  {
   "cell_type": "code",
   "execution_count": null,
   "id": "ee56b3bf",
   "metadata": {},
   "outputs": [],
   "source": [
    "import numpy as np\n",
    "import matplotlib.pyplot as plt\n",
    "\n",
    "# ------------------------------------------------------------------\n",
    "# 1. Define error grid (e - ê) over which to evaluate each loss\n",
    "# ------------------------------------------------------------------\n",
    "errors = np.linspace(-4, 4, 500)        # prediction error values\n",
    "\n",
    "# ------------------------------------------------------------------\n",
    "# 2. Loss functions\n",
    "# ------------------------------------------------------------------\n",
    "def mse_loss(e):\n",
    "    \"\"\"Mean Squared Error.\"\"\"\n",
    "    return e ** 2\n",
    "\n",
    "def pinball_loss(e, tau):\n",
    "    \"\"\"Pinball (quantile) loss for quantile level tau.\"\"\"\n",
    "    return np.where(e >= 0, tau * e, (1 - tau) * (-e))\n",
    "\n",
    "# Evaluate losses\n",
    "mse_values      = mse_loss(errors)\n",
    "pinball_tau_01  = pinball_loss(errors, tau=0.1)\n",
    "pinball_tau_09  = pinball_loss(errors, tau=0.9)\n",
    "\n",
    "# ------------------------------------------------------------------\n",
    "# 3. Plotting\n",
    "# ------------------------------------------------------------------\n",
    "plt.figure(figsize=(8, 6))\n",
    "\n",
    "# Plot MSE\n",
    "plt.plot(errors, mse_values, label=\"MSE\", color=\"black\", linewidth=2)\n",
    "\n",
    "# Plot pinball losses\n",
    "plt.plot(errors, pinball_tau_01,\n",
    "         label=r\"Pinball $(\\tau=0.1)$\", color=\"royalblue\", linewidth=2)\n",
    "plt.plot(errors, pinball_tau_09,\n",
    "         label=r\"Pinball $(\\tau=0.9)$\", color=\"darkorange\", linewidth=2)\n",
    "\n",
    "# Aesthetics\n",
    "plt.title(\"MSE vs. Pinball Loss\")\n",
    "plt.xlabel(r\"Prediction error $(e - \\hat{e})$\")\n",
    "plt.ylabel(\"Loss value\")\n",
    "plt.axvline(0, color=\"gray\", linestyle=\"--\", linewidth=1)  # zero-error marker\n",
    "plt.ylim(bottom=0)\n",
    "plt.grid(alpha=0.3)\n",
    "plt.legend()\n",
    "plt.tight_layout()\n",
    "\n",
    "# ------------------------------------------------------------------\n",
    "# 4. Display\n",
    "# ------------------------------------------------------------------\n",
    "plt.show()\n"
   ]
  },
  {
   "cell_type": "code",
   "execution_count": null,
   "id": "d311259a",
   "metadata": {},
   "outputs": [],
   "source": [
    "plt.figure(figsize=(8, 6))\n",
    "\n",
    "# Plot MSE\n",
    "plt.plot(errors, pinball_tau_01,\n",
    "         label=r\"Pinball $(\\tau=0.1)$\", color=\"royalblue\", linewidth=2)\n",
    "\n",
    "# Aesthetics\n",
    "plt.title(\"Pinball Loss ($\\tau=0.1$)\")\n",
    "plt.xlabel(r\"Prediction error $(e - \\hat{e})$\")\n",
    "plt.ylabel(\"Loss value\")\n",
    "plt.axvline(0, color=\"gray\", linestyle=\"--\", linewidth=1)  # zero-error marker\n",
    "plt.ylim(bottom=0)\n",
    "plt.grid(alpha=0.3)\n",
    "#plt.legend()\n",
    "plt.tight_layout()\n",
    "\n",
    "# ------------------------------------------------------------------\n",
    "# 4. Display\n",
    "# ------------------------------------------------------------------\n",
    "plt.show()"
   ]
  },
  {
   "cell_type": "code",
   "execution_count": null,
   "id": "fcc7bedb",
   "metadata": {},
   "outputs": [],
   "source": [
    "plt.figure(figsize=(8, 6))\n",
    "\n",
    "# Plot MSE\n",
    "plt.plot(errors, mse_values, label=\"MSE\", color=\"black\", linewidth=2)\n",
    "\n",
    "# Aesthetics\n",
    "plt.title(\"MSE\")\n",
    "plt.xlabel(r\"Prediction error $(e - \\hat{e})$\")\n",
    "plt.ylabel(\"Loss value\")\n",
    "plt.axvline(0, color=\"gray\", linestyle=\"--\", linewidth=1)  # zero-error marker\n",
    "plt.ylim(bottom=0)\n",
    "plt.grid(alpha=0.3)\n",
    "#plt.legend()\n",
    "plt.tight_layout()\n",
    "\n",
    "# ------------------------------------------------------------------\n",
    "# 4. Display\n",
    "# ------------------------------------------------------------------\n",
    "plt.show()"
   ]
  },
  {
   "cell_type": "markdown",
   "id": "1ed59ff5",
   "metadata": {},
   "source": [
    "Results refactor"
   ]
  },
  {
   "cell_type": "code",
   "execution_count": null,
   "id": "6e4446b1",
   "metadata": {},
   "outputs": [],
   "source": [
    "import pandas as pd\n",
    "\n",
    "read_file = \"results_no_plot.csv\"\n",
    "df = pd.read_csv(read_file)\n",
    "\n",
    "cl_cost_col = \"Closed Loop Cost\"\n",
    "\n",
    "# remove the squre brackets from the values in the column\n",
    "df[cl_cost_col] = df[cl_cost_col].str.replace(r'\\[|\\]', '', regex=True).astype(float)"
   ]
  },
  {
   "cell_type": "code",
   "execution_count": null,
   "id": "dbdd287d",
   "metadata": {},
   "outputs": [],
   "source": [
    "df[cl_cost_col]\n",
    "\n",
    "# display column names whose values are numeric\n",
    "numeric_columns = df.select_dtypes(include=['number']).columns.tolist()\n",
    "print(\"Numeric columns:\", numeric_columns)"
   ]
  },
  {
   "cell_type": "code",
   "execution_count": null,
   "id": "e92e3e81",
   "metadata": {},
   "outputs": [],
   "source": [
    "df.to_csv(\"results_no_plot_cleaned.csv\", index=False)"
   ]
  },
  {
   "cell_type": "code",
   "execution_count": 2,
   "id": "7b23090e",
   "metadata": {},
   "outputs": [],
   "source": [
    "import pandas as pd\n",
    "df = pd.read_csv(\"results_no_plot_cleaned.csv\")"
   ]
  },
  {
   "cell_type": "code",
   "execution_count": 3,
   "id": "6e8c7a87",
   "metadata": {},
   "outputs": [
    {
     "data": {
      "text/plain": [
       "Index(['Serial No.', 'Date', 'Type', 'No Samples', 'Surrogate Nodes',\n",
       "       'CQR Nodes', 'CQR Alpha', 'Initial Condition', 'Optimizer Success',\n",
       "       'Closed Loop Cost', 'Concentration Cb',\n",
       "       'Boundary Violation Probability', 'Iterations', 'MPC Horizon',\n",
       "       'MPC Input Cost', 'ICBMPC Tightner', 'ICBMPC Random Sampling',\n",
       "       'ICBMPC Confidence Cutoff', 'MPC Setpoint', 'ICBMPC Max Search', 'Time',\n",
       "       'LQR r', 'LQR q', 'MPC Robust Horizon'],\n",
       "      dtype='object')"
      ]
     },
     "execution_count": 3,
     "metadata": {},
     "output_type": "execute_result"
    }
   ],
   "source": [
    "df.columns"
   ]
  },
  {
   "cell_type": "code",
   "execution_count": 9,
   "id": "b8301555",
   "metadata": {},
   "outputs": [],
   "source": [
    "def calculate_average(df, column_name):\n",
    "    \n",
    "    unique_values = df[column_name].unique()\n",
    "    type_col =\"Type\"\n",
    "    cases = df[type_col].unique()\n",
    "\n",
    "    df_new = pd.DataFrame(columns=[column_name, \"Type\", 'Avg Optimizer Success', 'Avg Closed Loop Cost', 'Avg Concentration Cb', 'Avg Boundary Violation Probability', 'Avg Time'])\n",
    "\n",
    "    performance_metric_col = ['Optimizer Success', 'Closed Loop Cost', 'Concentration Cb', 'Boundary Violation Probability', 'Time']\n",
    "\n",
    "    for value in unique_values:\n",
    "        for case in cases:\n",
    "            df_filtered = df[(df[column_name] == value) & (df[type_col] == case)]\n",
    "            if not df_filtered.empty:\n",
    "                avg_values = {\n",
    "                    column_name: value,\n",
    "                    'Type': case,\n",
    "                    'Avg Optimizer Success': df_filtered['Optimizer Success'].mean(),\n",
    "                    'Avg Closed Loop Cost': df_filtered['Closed Loop Cost'].mean(),\n",
    "                    'Avg Concentration Cb': df_filtered['Concentration Cb'].mean(),\n",
    "                    'Avg Boundary Violation Probability': df_filtered['Boundary Violation Probability'].mean(),\n",
    "                    'Avg Time': df_filtered['Time'].mean()\n",
    "                }\n",
    "\n",
    "                # convert to DataFrame and append\n",
    "                df_avg = pd.DataFrame([avg_values])\n",
    "                df_new = pd.concat([df_new, df_avg], ignore_index=True)\n",
    "    \n",
    "    # save the new DataFrame to a CSV file\n",
    "    df_new.to_csv(f\"Average_{column_name}.csv\", index=False)\n",
    "\n",
    "\n",
    "    return df_new\n"
   ]
  },
  {
   "cell_type": "code",
   "execution_count": 15,
   "id": "34a36b69",
   "metadata": {},
   "outputs": [
    {
     "name": "stderr",
     "output_type": "stream",
     "text": [
      "/var/folders/bt/607j6q3j63vd7szlx_ssvyg40000gn/T/ipykernel_3032/3679582460.py:27: FutureWarning: The behavior of DataFrame concatenation with empty or all-NA entries is deprecated. In a future version, this will no longer exclude empty or all-NA columns when determining the result dtypes. To retain the old behavior, exclude the relevant entries before the concat operation.\n",
      "  df_new = pd.concat([df_new, df_avg], ignore_index=True)\n"
     ]
    }
   ],
   "source": [
    "df_new = calculate_average(df, \"LQR r\")"
   ]
  },
  {
   "cell_type": "code",
   "execution_count": 14,
   "id": "6df7c615",
   "metadata": {},
   "outputs": [
    {
     "data": {
      "text/html": [
       "<div>\n",
       "<style scoped>\n",
       "    .dataframe tbody tr th:only-of-type {\n",
       "        vertical-align: middle;\n",
       "    }\n",
       "\n",
       "    .dataframe tbody tr th {\n",
       "        vertical-align: top;\n",
       "    }\n",
       "\n",
       "    .dataframe thead th {\n",
       "        text-align: right;\n",
       "    }\n",
       "</style>\n",
       "<table border=\"1\" class=\"dataframe\">\n",
       "  <thead>\n",
       "    <tr style=\"text-align: right;\">\n",
       "      <th></th>\n",
       "      <th>ICBMPC Max Search</th>\n",
       "      <th>Type</th>\n",
       "      <th>Avg Optimizer Success</th>\n",
       "      <th>Avg Closed Loop Cost</th>\n",
       "      <th>Avg Concentration Cb</th>\n",
       "      <th>Avg Boundary Violation Probability</th>\n",
       "      <th>Avg Time</th>\n",
       "    </tr>\n",
       "  </thead>\n",
       "  <tbody>\n",
       "    <tr>\n",
       "      <th>0</th>\n",
       "      <td>3.0</td>\n",
       "      <td>cs1</td>\n",
       "      <td>0.075833</td>\n",
       "      <td>122.786392</td>\n",
       "      <td>0.852520</td>\n",
       "      <td>0.005353</td>\n",
       "      <td>17.626764</td>\n",
       "    </tr>\n",
       "    <tr>\n",
       "      <th>1</th>\n",
       "      <td>3.0</td>\n",
       "      <td>cs5</td>\n",
       "      <td>0.084167</td>\n",
       "      <td>130.333887</td>\n",
       "      <td>0.846285</td>\n",
       "      <td>0.005255</td>\n",
       "      <td>8.384151</td>\n",
       "    </tr>\n",
       "    <tr>\n",
       "      <th>2</th>\n",
       "      <td>5.0</td>\n",
       "      <td>cs1</td>\n",
       "      <td>0.197143</td>\n",
       "      <td>98.803123</td>\n",
       "      <td>0.747668</td>\n",
       "      <td>0.018630</td>\n",
       "      <td>26.045947</td>\n",
       "    </tr>\n",
       "    <tr>\n",
       "      <th>3</th>\n",
       "      <td>5.0</td>\n",
       "      <td>cs5</td>\n",
       "      <td>0.195510</td>\n",
       "      <td>105.016557</td>\n",
       "      <td>0.750626</td>\n",
       "      <td>0.018253</td>\n",
       "      <td>12.354329</td>\n",
       "    </tr>\n",
       "    <tr>\n",
       "      <th>4</th>\n",
       "      <td>10.0</td>\n",
       "      <td>cs1</td>\n",
       "      <td>0.143000</td>\n",
       "      <td>152.795370</td>\n",
       "      <td>0.924286</td>\n",
       "      <td>0.007810</td>\n",
       "      <td>52.485356</td>\n",
       "    </tr>\n",
       "    <tr>\n",
       "      <th>5</th>\n",
       "      <td>10.0</td>\n",
       "      <td>cs5</td>\n",
       "      <td>0.150500</td>\n",
       "      <td>140.470710</td>\n",
       "      <td>0.922113</td>\n",
       "      <td>0.007941</td>\n",
       "      <td>25.865486</td>\n",
       "    </tr>\n",
       "  </tbody>\n",
       "</table>\n",
       "</div>"
      ],
      "text/plain": [
       "   ICBMPC Max Search Type  Avg Optimizer Success  Avg Closed Loop Cost  \\\n",
       "0                3.0  cs1               0.075833            122.786392   \n",
       "1                3.0  cs5               0.084167            130.333887   \n",
       "2                5.0  cs1               0.197143             98.803123   \n",
       "3                5.0  cs5               0.195510            105.016557   \n",
       "4               10.0  cs1               0.143000            152.795370   \n",
       "5               10.0  cs5               0.150500            140.470710   \n",
       "\n",
       "   Avg Concentration Cb  Avg Boundary Violation Probability   Avg Time  \n",
       "0              0.852520                            0.005353  17.626764  \n",
       "1              0.846285                            0.005255   8.384151  \n",
       "2              0.747668                            0.018630  26.045947  \n",
       "3              0.750626                            0.018253  12.354329  \n",
       "4              0.924286                            0.007810  52.485356  \n",
       "5              0.922113                            0.007941  25.865486  "
      ]
     },
     "execution_count": 14,
     "metadata": {},
     "output_type": "execute_result"
    }
   ],
   "source": [
    "df_new"
   ]
  }
 ],
 "metadata": {
  "kernelspec": {
   "display_name": "cqr",
   "language": "python",
   "name": "python3"
  },
  "language_info": {
   "codemirror_mode": {
    "name": "ipython",
    "version": 3
   },
   "file_extension": ".py",
   "mimetype": "text/x-python",
   "name": "python",
   "nbconvert_exporter": "python",
   "pygments_lexer": "ipython3",
   "version": "3.11.11"
  }
 },
 "nbformat": 4,
 "nbformat_minor": 5
}
